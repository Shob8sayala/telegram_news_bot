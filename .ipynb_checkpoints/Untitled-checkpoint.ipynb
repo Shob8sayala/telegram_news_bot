{
 "cells": [
  {
   "cell_type": "code",
   "execution_count": 10,
   "id": "phantom-fraud",
   "metadata": {},
   "outputs": [],
   "source": [
    "import os\n",
    "os.environ[\"GOOGLE_APPLICATION_CREDENTIALS\"] = \"newsbot-client.json\"\n",
    "\n",
    "from google.cloud import dialogflow_v2beta1 as dialogflow\n",
    "dialogflow_session_client = dialogflow.SessionsClient()\n",
    "PROJECT_ID = \"newsbot-c9kx\""
   ]
  },
  {
   "cell_type": "code",
   "execution_count": 11,
   "id": "legitimate-initial",
   "metadata": {},
   "outputs": [],
   "source": [
    "def detect_intent_from_text(text, session_id, language_code='en'):             #detects intent from text\n",
    "    session = dialogflow_session_client.session_path(PROJECT_ID, session_id)\n",
    "    text_input = dialogflow.types.TextInput(text=text, language_code=language_code)\n",
    "    query_input = dialogflow.types.QueryInput(text=text_input)\n",
    "    response = dialogflow_session_client.detect_intent(session=session, query_input=query_input)\n",
    "    return response.query_result"
   ]
  },
  {
   "cell_type": "code",
   "execution_count": 18,
   "id": "reverse-subcommittee",
   "metadata": {},
   "outputs": [],
   "source": [
    "response = detect_intent_from_text(\"give news from india in hindi\",1234)   #creates separate session id for each user so as to not mix each user"
   ]
  },
  {
   "cell_type": "code",
   "execution_count": 19,
   "id": "thrown-maine",
   "metadata": {},
   "outputs": [
    {
     "data": {
      "text/plain": [
       "query_text: \"give news from india in hindi\"\n",
       "parameters {\n",
       "  fields {\n",
       "    key: \"language\"\n",
       "    value {\n",
       "      string_value: \"Hindi\"\n",
       "    }\n",
       "  }\n",
       "  fields {\n",
       "    key: \"topic\"\n",
       "    value {\n",
       "      string_value: \"Nation\"\n",
       "    }\n",
       "  }\n",
       "}\n",
       "all_required_params_present: true\n",
       "fulfillment_messages {\n",
       "  text {\n",
       "    text: \"\"\n",
       "  }\n",
       "}\n",
       "intent {\n",
       "  name: \"projects/newsbot-c9kx/agent/intents/2ba79d60-4f1d-4492-b291-8fb7a4202f8d\"\n",
       "  display_name: \"news\"\n",
       "}\n",
       "intent_detection_confidence: 0.7379456162452698\n",
       "language_code: \"en\""
      ]
     },
     "execution_count": 19,
     "metadata": {},
     "output_type": "execute_result"
    }
   ],
   "source": [
    "response"
   ]
  },
  {
   "cell_type": "code",
   "execution_count": 20,
   "id": "eastern-license",
   "metadata": {},
   "outputs": [
    {
     "data": {
      "text/plain": [
       "'news'"
      ]
     },
     "execution_count": 20,
     "metadata": {},
     "output_type": "execute_result"
    }
   ],
   "source": [
    "response.intent.display_name"
   ]
  },
  {
   "cell_type": "code",
   "execution_count": 22,
   "id": "young-spouse",
   "metadata": {},
   "outputs": [
    {
     "data": {
      "text/plain": [
       "{'topic': 'Nation', 'language': 'Hindi'}"
      ]
     },
     "execution_count": 22,
     "metadata": {},
     "output_type": "execute_result"
    }
   ],
   "source": [
    "dict(response.parameters)"
   ]
  },
  {
   "cell_type": "code",
   "execution_count": 2,
   "id": "empirical-looking",
   "metadata": {},
   "outputs": [],
   "source": [
    "from gnewsclient import gnewsclient"
   ]
  },
  {
   "cell_type": "code",
   "execution_count": 8,
   "id": "cubic-potter",
   "metadata": {},
   "outputs": [],
   "source": [
    "client = gnewsclient.NewsClient()"
   ]
  },
  {
   "cell_type": "code",
   "execution_count": 9,
   "id": "fallen-karaoke",
   "metadata": {},
   "outputs": [
    {
     "data": {
      "text/plain": [
       "{'location': 'United States', 'language': 'english', 'topic': 'Top Stories'}"
      ]
     },
     "execution_count": 9,
     "metadata": {},
     "output_type": "execute_result"
    }
   ],
   "source": [
    "client.get_config()  #shows current location, language and topic"
   ]
  },
  {
   "cell_type": "code",
   "execution_count": 10,
   "id": "commercial-elite",
   "metadata": {},
   "outputs": [
    {
     "data": {
      "text/plain": [
       "['Top Stories',\n",
       " 'World',\n",
       " 'Nation',\n",
       " 'Business',\n",
       " 'Technology',\n",
       " 'Entertainment',\n",
       " 'Sports',\n",
       " 'Science',\n",
       " 'Health']"
      ]
     },
     "execution_count": 10,
     "metadata": {},
     "output_type": "execute_result"
    }
   ],
   "source": [
    "client.topics           #inbuild topics; client.location or client.topic can be used likewise"
   ]
  },
  {
   "cell_type": "code",
   "execution_count": null,
   "id": "photographic-level",
   "metadata": {},
   "outputs": [],
   "source": [
    "client.location = 'India'\n",
    "client.language = 'Hindi'\n",
    "client.topic = 'Sports'"
   ]
  },
  {
   "cell_type": "code",
   "execution_count": null,
   "id": "negative-pilot",
   "metadata": {},
   "outputs": [],
   "source": []
  },
  {
   "cell_type": "code",
   "execution_count": null,
   "id": "concerned-shareware",
   "metadata": {},
   "outputs": [],
   "source": []
  }
 ],
 "metadata": {
  "kernelspec": {
   "display_name": "Python 3",
   "language": "python",
   "name": "python3"
  },
  "language_info": {
   "codemirror_mode": {
    "name": "ipython",
    "version": 3
   },
   "file_extension": ".py",
   "mimetype": "text/x-python",
   "name": "python",
   "nbconvert_exporter": "python",
   "pygments_lexer": "ipython3",
   "version": "3.9.4"
  }
 },
 "nbformat": 4,
 "nbformat_minor": 5
}
