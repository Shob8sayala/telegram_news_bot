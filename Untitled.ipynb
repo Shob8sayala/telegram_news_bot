{
 "cells": [
  {
   "cell_type": "code",
   "execution_count": 10,
   "id": "phantom-fraud",
   "metadata": {},
   "outputs": [],
   "source": [
    "import os\n",
    "os.environ[\"GOOGLE_APPLICATION_CREDENTIALS\"] = \"newsbot-client.json\"\n",
    "\n",
    "from google.cloud import dialogflow_v2beta1 as dialogflow\n",
    "dialogflow_session_client = dialogflow.SessionsClient()\n",
    "PROJECT_ID = \"newsbot-c9kx\""
   ]
  },
  {
   "cell_type": "code",
   "execution_count": 11,
   "id": "legitimate-initial",
   "metadata": {},
   "outputs": [],
   "source": [
    "def detect_intent_from_text(text, session_id, language_code='en'):             #detects intent from text\n",
    "    session = dialogflow_session_client.session_path(PROJECT_ID, session_id)\n",
    "    text_input = dialogflow.types.TextInput(text=text, language_code=language_code)\n",
    "    query_input = dialogflow.types.QueryInput(text=text_input)\n",
    "    response = dialogflow_session_client.detect_intent(session=session, query_input=query_input)\n",
    "    return response.query_result"
   ]
  },
  {
   "cell_type": "code",
   "execution_count": 18,
   "id": "reverse-subcommittee",
   "metadata": {},
   "outputs": [],
   "source": [
    "response = detect_intent_from_text(\"give news from india in hindi\",1234)   #creates separate session id for each user so as to not mix each user"
   ]
  },
  {
   "cell_type": "code",
   "execution_count": 19,
   "id": "thrown-maine",
   "metadata": {},
   "outputs": [
    {
     "data": {
      "text/plain": [
       "query_text: \"give news from india in hindi\"\n",
       "parameters {\n",
       "  fields {\n",
       "    key: \"language\"\n",
       "    value {\n",
       "      string_value: \"Hindi\"\n",
       "    }\n",
       "  }\n",
       "  fields {\n",
       "    key: \"topic\"\n",
       "    value {\n",
       "      string_value: \"Nation\"\n",
       "    }\n",
       "  }\n",
       "}\n",
       "all_required_params_present: true\n",
       "fulfillment_messages {\n",
       "  text {\n",
       "    text: \"\"\n",
       "  }\n",
       "}\n",
       "intent {\n",
       "  name: \"projects/newsbot-c9kx/agent/intents/2ba79d60-4f1d-4492-b291-8fb7a4202f8d\"\n",
       "  display_name: \"news\"\n",
       "}\n",
       "intent_detection_confidence: 0.7379456162452698\n",
       "language_code: \"en\""
      ]
     },
     "execution_count": 19,
     "metadata": {},
     "output_type": "execute_result"
    }
   ],
   "source": [
    "response"
   ]
  },
  {
   "cell_type": "code",
   "execution_count": 20,
   "id": "eastern-license",
   "metadata": {},
   "outputs": [
    {
     "data": {
      "text/plain": [
       "'news'"
      ]
     },
     "execution_count": 20,
     "metadata": {},
     "output_type": "execute_result"
    }
   ],
   "source": [
    "response.intent.display_name"
   ]
  },
  {
   "cell_type": "code",
   "execution_count": 22,
   "id": "young-spouse",
   "metadata": {},
   "outputs": [
    {
     "data": {
      "text/plain": [
       "{'topic': 'Nation', 'language': 'Hindi'}"
      ]
     },
     "execution_count": 22,
     "metadata": {},
     "output_type": "execute_result"
    }
   ],
   "source": [
    "dict(response.parameters)"
   ]
  },
  {
   "cell_type": "code",
   "execution_count": 2,
   "id": "empirical-looking",
   "metadata": {},
   "outputs": [],
   "source": [
    "from gnewsclient import gnewsclient"
   ]
  },
  {
   "cell_type": "code",
   "execution_count": 8,
   "id": "cubic-potter",
   "metadata": {},
   "outputs": [],
   "source": [
    "client = gnewsclient.NewsClient()"
   ]
  },
  {
   "cell_type": "code",
   "execution_count": 9,
   "id": "fallen-karaoke",
   "metadata": {},
   "outputs": [
    {
     "data": {
      "text/plain": [
       "{'location': 'United States', 'language': 'english', 'topic': 'Top Stories'}"
      ]
     },
     "execution_count": 9,
     "metadata": {},
     "output_type": "execute_result"
    }
   ],
   "source": [
    "client.get_config()  #shows current location, language and topic"
   ]
  },
  {
   "cell_type": "code",
   "execution_count": 10,
   "id": "korean-karen",
   "metadata": {},
   "outputs": [
    {
     "data": {
      "text/plain": [
       "['Top Stories',\n",
       " 'World',\n",
       " 'Nation',\n",
       " 'Business',\n",
       " 'Technology',\n",
       " 'Entertainment',\n",
       " 'Sports',\n",
       " 'Science',\n",
       " 'Health']"
      ]
     },
     "execution_count": 10,
     "metadata": {},
     "output_type": "execute_result"
    }
   ],
   "source": [
    "client.topics           #inbuild topics; client.location or client.topic can be used likewise"
   ]
  },
  {
   "cell_type": "code",
   "execution_count": 12,
   "id": "subsequent-difference",
   "metadata": {},
   "outputs": [],
   "source": [
    "client.location = 'India'\n",
    "client.language = 'Hindi'\n",
    "client.topic = 'Sports'"
   ]
  },
  {
   "cell_type": "code",
   "execution_count": 13,
   "id": "suitable-convention",
   "metadata": {},
   "outputs": [
    {
     "data": {
      "text/plain": [
       "[{'title': 'IND vs SA: विराट कोहली की जगह जसप्रीत बुमराह कप्तान बनने को तैयार, कहा- मैं अपवाद नहीं - News18 हिंदी',\n",
       "  'link': 'https://news.google.com/__i/rss/rd/articles/CBMioQFodHRwczovL2hpbmRpLm5ld3MxOC5jb20vbmV3cy9zcG9ydHMvY3JpY2tldC1pbmQtdnMtc2EtamFzcHJpdC1idW1yYWgtc2F5cy1oZS1pcy1yZWFkeS10by1jYXB0YWluLWluZGlhLWFmdGVyLXZpcmF0LWtvaGxpLXN0ZXBzLWRvd24tYXMtdGVzdC1za2lwcGVyLTM5NTk1NzUuaHRtbNIBAA?oc=5',\n",
       "  'media': None},\n",
       " {'title': 'Rohit Sharma Fitness: कप्तान रोहित शर्मा की फिटनेस पर आई अपडेट, इस टीम के खिलाफ मैदान में कर सकते हैं वापसी - अमर उजाला - Amar Ujala',\n",
       "  'link': 'https://news.google.com/__i/rss/rd/articles/CBMijgFodHRwczovL3d3dy5hbWFydWphbGEuY29tL2NyaWNrZXQvY3JpY2tldC1uZXdzL3JvaGl0LXNoYXJtYS1pcy1pbi1yZWNvdmVyeS1tb2RlLWdldHRpbmctbWF0Y2gtcmVhZHktbGlrZWx5LXRvLWJlLWF2YWlsYWJsZS1hZ2FpbnN0LXdlc3QtaW5kaWVz0gEA?oc=5',\n",
       "  'media': None},\n",
       " {'title': 'नोवाक जोकोविच को ऑस्ट्रेलिया से वापस भेजा गया - Hindustan हिंदी',\n",
       "  'link': 'https://news.google.com/__i/rss/rd/articles/CBMiZWh0dHBzOi8vd3d3LmxpdmVoaW5kdXN0YW4uY29tL2ludGVybmF0aW9uYWwvc3Rvcnktbm92YWstZGpva292aWMtZGVwb3J0ZWQtZnJvbS1hdXN0cmFsaWEtNTU5NDY3Ny5odG1s0gFpaHR0cHM6Ly93d3cubGl2ZWhpbmR1c3Rhbi5jb20vaW50ZXJuYXRpb25hbC9zdG9yeS1ub3Zhay1kam9rb3ZpYy1kZXBvcnRlZC1mcm9tLWF1c3RyYWxpYS01NTk0Njc3LmFtcC5odG1s?oc=5',\n",
       "  'media': None},\n",
       " {'title': 'IPL 2022 Mega Auction: अहमदाबाद के साथ हार्दिक समेत इन 3 खिलाड़ियों की डील पक्की, हुई पैसों की बरसात! - Aaj Tak',\n",
       "  'link': 'https://news.google.com/__i/rss/rd/articles/CBMivgFodHRwczovL3d3dy5hYWp0YWsuaW4vc3BvcnRzL2NyaWNrZXQvc3RvcnkvaGFyZGlrLXBhbmR5YS1yYXNoaWQta2hhbi1zaHVibWFuLWdpbGwtc2V0LXRvLWpvaW4tYWhtZWRhYmFkLWZyYW5jaGlzZS1yZWFkeS10by1pcGwtMjAyMi1pbmRpYW4tcHJlbWllci1sZWFndWUtbWVnYS1hdWN0aW9uLXRzcG8tMTM5NDM0Ny0yMDIyLTAxLTE30gEA?oc=5',\n",
       "  'media': None},\n",
       " {'title': 'Ashes 2022: ऑस्ट्रेलियाई टीम ने Usman Khawaja के लिए रोका शैम्पेन सेलिब्रेशन, वायरल हो रहा वीडियो - ABP न्यूज़',\n",
       "  'link': 'https://news.google.com/__i/rss/rd/articles/CBMirQFodHRwczovL3d3dy5hYnBsaXZlLmNvbS9zcG9ydHMvY3JpY2tldC9hc2hlcy1hdXMtdnMtZW5nLWF1c3RyYWxpYW4tdGVhbS1jYXB0YWluLXBhdC1jdW1taW5zLWhvbGRzLWNoYW1wYWduZS1zaG93ZXItZm9yLXVzbWFuLWtoYXdhamEtY2FsbHMtaGltLXRvLWNlbGVicmF0ZS13aXRoLXRlYW0tMjA0MDE1NNIBAA?oc=5',\n",
       "  'media': None},\n",
       " {'title': 'आयरलैंड ने धमाकेदार जीत से रचा इतिहास, पूर्व वर्ल्ड चैंपियन को वनडे सीरीज में दी मात - दैनिक जागरण (Dainik Jagran)',\n",
       "  'link': 'https://news.google.com/__i/rss/rd/articles/CBMilgFodHRwczovL3d3dy5qYWdyYW4uY29tL2NyaWNrZXQvbWF0Y2gtcmVwb3J0LWlyZWxhbmQtYmVhdC13ZXN0LWluZGllcy1pbi1vZGktc2VyaWVzLXRvLWFjaGlldmUtaGlzdG9yaWMtd2luLWFnYWluc3QtZm9ybWVyLXdvcmxkLWNoYW1waW9uLTIyMzg4Nzg5Lmh0bWzSAQA?oc=5',\n",
       "  'media': None},\n",
       " {'title': 'ENG vs AUS, The Ashes: पूर्व कप्तान ने हार के लिए IPL पर मढ़ा दोष ...लेकिन NZ हाई कमिश्नर ने लगा दी क्लास - Aaj Tak',\n",
       "  'link': 'https://news.google.com/__i/rss/rd/articles/CBMinAFodHRwczovL3d3dy5hYWp0YWsuaW4vc3BvcnRzL2NyaWNrZXQvc3RvcnkvbmV3LXplYWxhbmQtaGlnaC1jb21taXNzaW9uZXItbWljaGFlbC1hcHBsZXRvbi1zbGFtcy1kYXZpZC1nb3dlci1mb3ItaGlzLXN0YXRlbWVudC1vbi1pcGwtdHNwby0xMzkzOTg1LTIwMjItMDEtMTfSAQA?oc=5',\n",
       "  'media': None},\n",
       " {'title': \"IND vs SA ODI: 'विराट युग' खत्म अब केएल राहुल की अग्निपरीक्षा, देखें पहली टीम मीटिंग में नए कप्तान का अंदाज... - News18 हिंदी\",\n",
       "  'link': 'https://news.google.com/__i/rss/rd/articles/CBMivQFodHRwczovL2hpbmRpLm5ld3MxOC5jb20vcGhvdG9nYWxsZXJ5L3Nwb3J0cy9jcmlja2V0LWluZGlhLXZzLXNvdXRoLWFmcmljYS1vZGkta2wtcmFodWwtY29uZHVjdHMtZmlyc3QtdGVhbS1tZWV0aW5nLWFzLWNhcHRhaW4tYXQtYm9sYW5kLXBhcmstYXMtdmlyYXQta29obGktZXJhLWVuZHMtY2hlY2stcGljcy0zOTU5MjUyLmh0bWzSAQA?oc=5',\n",
       "  'media': None},\n",
       " {'title': 'IPL 2022 के मेगा ऑक्शन में शामिल होंगे जो रूट या नहीं, सामने आई रिपोर्ट - Hindustan',\n",
       "  'link': 'https://news.google.com/__i/rss/rd/articles/CBMidmh0dHBzOi8vd3d3LmxpdmVoaW5kdXN0YW4uY29tL2NyaWNrZXQvc3Rvcnktam9lLXJvb3Qtd291bGQtbm90LWJlLWVudGVyaW5nLWludG8tdGhlLWlwbC0yMDIyLW1lZ2EtYXVjdGlvbi01NTk0MTc2Lmh0bWzSAQA?oc=5',\n",
       "  'media': None},\n",
       " {'title': 'PKL 2021 Live Streaming: पुणेरी पलटन का यूपी योद्धा से मुकाबला कब और कहां देखें? - ABP न्यूज़',\n",
       "  'link': 'https://news.google.com/__i/rss/rd/articles/CBMimQFodHRwczovL3d3dy5hYnBsaXZlLmNvbS9zcG9ydHMva2FiYWRkaS9wcm8ta2FiYWRkaS1sZWFndWUtMjAyMS1saXZlLXN0cmVhbWluZy13aGVuLXdoZXJlLXRvLXdhdGNoLXBrbC1wdW5lcmktcGFsdGFuLXZzLXVwLXlvZGRoYS10di1saXZlLXRlbGVjYXN0LTIwNDAyNDXSAQA?oc=5',\n",
       "  'media': None}]"
      ]
     },
     "execution_count": 13,
     "metadata": {},
     "output_type": "execute_result"
    }
   ],
   "source": [
    "client.get_news()"
   ]
  },
  {
   "cell_type": "code",
   "execution_count": null,
   "id": "composite-fiber",
   "metadata": {},
   "outputs": [],
   "source": []
  }
 ],
 "metadata": {
  "kernelspec": {
   "display_name": "Python 3",
   "language": "python",
   "name": "python3"
  },
  "language_info": {
   "codemirror_mode": {
    "name": "ipython",
    "version": 3
   },
   "file_extension": ".py",
   "mimetype": "text/x-python",
   "name": "python",
   "nbconvert_exporter": "python",
   "pygments_lexer": "ipython3",
   "version": "3.9.4"
  }
 },
 "nbformat": 4,
 "nbformat_minor": 5
}
